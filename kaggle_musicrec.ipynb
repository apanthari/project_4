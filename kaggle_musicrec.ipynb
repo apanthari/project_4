{
 "cells": [
  {
   "cell_type": "code",
   "execution_count": null,
   "id": "4e8e0b72",
   "metadata": {},
   "outputs": [],
   "source": [
    "import pandas as pd\n",
    "import numpy as np\n",
    "\n",
    "\n",
    "song_data = pd.read_csv('../input/19000-spotify-songs/song_data.csv') \n",
    "song_info = pd.read_csv('../input/19000-spotify-songs/song_info.csv') \n"
   ]
  },
  {
   "cell_type": "code",
   "execution_count": null,
   "id": "d86c04d4",
   "metadata": {},
   "outputs": [],
   "source": [
    "song_info['playlist'] = song_info['playlist'].str.lower()\n",
    "song_info['song_name'] = song_info['song_name'].str.lower()\n",
    "song_info['artist_name'] = song_info['artist_name'].str.lower()\n",
    "song_info['album_names'] = song_info['album_names'].str.lower()\n",
    "\n",
    "song_data['song_name'] = song_data['song_name'].str.lower()\n"
   ]
  },
  {
   "cell_type": "code",
   "execution_count": null,
   "id": "b5a289d2",
   "metadata": {},
   "outputs": [],
   "source": []
  },
  {
   "cell_type": "code",
   "execution_count": null,
   "id": "28e1aada",
   "metadata": {},
   "outputs": [],
   "source": []
  },
  {
   "cell_type": "code",
   "execution_count": null,
   "id": "446dfa93",
   "metadata": {},
   "outputs": [],
   "source": []
  },
  {
   "cell_type": "code",
   "execution_count": null,
   "id": "228ffd44",
   "metadata": {},
   "outputs": [],
   "source": []
  },
  {
   "cell_type": "code",
   "execution_count": null,
   "id": "678a63c2",
   "metadata": {},
   "outputs": [],
   "source": []
  },
  {
   "cell_type": "code",
   "execution_count": null,
   "id": "9dff0f98",
   "metadata": {},
   "outputs": [],
   "source": []
  }
 ],
 "metadata": {
  "kernelspec": {
   "display_name": "Python 3 (ipykernel)",
   "language": "python",
   "name": "python3"
  },
  "language_info": {
   "codemirror_mode": {
    "name": "ipython",
    "version": 3
   },
   "file_extension": ".py",
   "mimetype": "text/x-python",
   "name": "python",
   "nbconvert_exporter": "python",
   "pygments_lexer": "ipython3",
   "version": "3.9.13"
  }
 },
 "nbformat": 4,
 "nbformat_minor": 5
}
